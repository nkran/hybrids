{
 "cells": [
  {
   "cell_type": "code",
   "execution_count": null,
   "metadata": {},
   "outputs": [],
   "source": [
    "import numpy as np\n",
    "import pandas as pd\n",
    "import plotly.express as px\n",
    "import umap\n",
    "from scipy.spatial import distance\n",
    "import warnings\n",
    "warnings.filterwarnings(\"ignore\")"
   ]
  },
  {
   "cell_type": "code",
   "execution_count": null,
   "metadata": {},
   "outputs": [],
   "source": [
    "# genotype labels\n",
    "# -/- = -1      (missing - same as 0/0)\n",
    "# 0/0 = 1\n",
    "# 0/1 = 2\n",
    "# 1/1 = 3\n",
    "\n",
    "# means 77 positions/SNPs x 21 samples\n",
    "g = np.load('results/gt_genes/gene_10.npy')\n",
    "g"
   ]
  },
  {
   "cell_type": "code",
   "execution_count": null,
   "metadata": {},
   "outputs": [],
   "source": [
    "# 0 = ARA\n",
    "# 1 = GAM\n",
    "# 2 = HYB\n",
    "# 3 = CTR\n",
    "sample_cohorts = np.array([0, 0, 0, 0, 0, 1, 1, 1, 1, 1, 1, 1, 1, 1, 1, 3, 2, 2, 2, 2, 2])\n",
    "sample_cohorts.shape"
   ]
  },
  {
   "cell_type": "code",
   "execution_count": null,
   "metadata": {},
   "outputs": [],
   "source": [
    "np.unique(g)"
   ]
  },
  {
   "cell_type": "code",
   "execution_count": null,
   "metadata": {},
   "outputs": [],
   "source": [
    "y = np.expand_dims(sample_cohorts, 0)\n",
    "arr = np.append(y.transpose(), g.transpose(), axis=1)\n",
    "df = pd.DataFrame(arr, columns=['y'] + [f\"pos{i}\" for i in range(g.shape[0])])\n",
    "df.iloc[:, 1:] = df.iloc[:, 1:].astype(object)  # encode position values as categorical"
   ]
  },
  {
   "cell_type": "code",
   "execution_count": null,
   "metadata": {},
   "outputs": [],
   "source": [
    "df"
   ]
  },
  {
   "cell_type": "code",
   "execution_count": null,
   "metadata": {},
   "outputs": [],
   "source": [
    "df_w_dummies = pd.get_dummies(df)\n",
    "df_w_dummies.shape\n",
    "print(77*4)\n",
    "# we would expect shape of 77*4 == 308\n",
    "# we only get 226, meaning not every position observes all the possible values [-1, 1, 2, 3]"
   ]
  },
  {
   "cell_type": "code",
   "execution_count": null,
   "metadata": {},
   "outputs": [],
   "source": [
    "df_w_dummies"
   ]
  },
  {
   "cell_type": "code",
   "execution_count": null,
   "metadata": {},
   "outputs": [],
   "source": [
    "# https://umap-learn.readthedocs.io/en/latest/basic_usage.html\n",
    "reducer = umap.UMAP()\n",
    "embedding = reducer.fit_transform(df_w_dummies.iloc[:, 1:])"
   ]
  },
  {
   "cell_type": "code",
   "execution_count": null,
   "metadata": {},
   "outputs": [],
   "source": [
    "arr = np.append(y.transpose(), embedding, axis=1)\n",
    "embedding_df = pd.DataFrame(arr, columns=['label'] + [f\"emb{i}\" for i in range(embedding.shape[1])])\n",
    "embedding_df.label = embedding_df.label.astype(int).astype('category')"
   ]
  },
  {
   "cell_type": "code",
   "execution_count": null,
   "metadata": {},
   "outputs": [],
   "source": [
    "fig = px.scatter(embedding_df, x=\"emb0\", y=\"emb1\", color=\"label\", width=1000, height=600)\n",
    "fig.show()\n"
   ]
  },
  {
   "cell_type": "code",
   "execution_count": null,
   "metadata": {},
   "outputs": [],
   "source": [
    "cluster_center_0 = embedding_df[embedding_df.label == 0].mean().to_numpy() # ARA\n",
    "cluster_center_1 = embedding_df[embedding_df.label == 1].mean().to_numpy() # GAM"
   ]
  },
  {
   "cell_type": "code",
   "execution_count": null,
   "metadata": {},
   "outputs": [],
   "source": [
    "test_cases = embedding_df[embedding_df.label.isin([2, 3])]\n",
    "for idx, row in test_cases.iterrows():\n",
    "    sample_pos = row[['emb0', 'emb1']].to_numpy()\n",
    "    dist0 = distance.euclidean(sample_pos, cluster_center_0)\n",
    "    dist1 = distance.euclidean(sample_pos, cluster_center_1)\n",
    "    if dist0 > dist1:\n",
    "        print(f\"Sample {row.to_numpy()} is closer to label 0.\")\n",
    "    else:\n",
    "        print(f\"Sample {row.to_numpy()} is closer to label 1.\")"
   ]
  }
 ],
 "metadata": {
  "kernelspec": {
   "display_name": "Python 3.9.13 ('.venv': venv)",
   "language": "python",
   "name": "python3"
  },
  "language_info": {
   "codemirror_mode": {
    "name": "ipython",
    "version": 3
   },
   "file_extension": ".py",
   "mimetype": "text/x-python",
   "name": "python",
   "nbconvert_exporter": "python",
   "pygments_lexer": "ipython3",
   "version": "3.9.13"
  },
  "orig_nbformat": 4,
  "vscode": {
   "interpreter": {
    "hash": "6fc18186b7e17fcf6ec6c6e45922f82fa239b81f14afd345ddd319a6aa090c8d"
   }
  }
 },
 "nbformat": 4,
 "nbformat_minor": 2
}
